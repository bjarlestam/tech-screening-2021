{
 "cells": [
  {
   "cell_type": "code",
   "execution_count": 6,
   "id": "b9ab88b1",
   "metadata": {},
   "outputs": [],
   "source": [
    "from recommender.recommender import personalisedSearcher"
   ]
  },
  {
   "cell_type": "code",
   "execution_count": null,
   "id": "3ab3970a",
   "metadata": {},
   "outputs": [],
   "source": []
  },
  {
   "cell_type": "code",
   "execution_count": null,
   "id": "ab39a1ca",
   "metadata": {},
   "outputs": [],
   "source": [
    "searcher = personalisedSearcher()\n",
    "searcher.personalised_search(1, \"zombie\")"
   ]
  },
  {
   "cell_type": "code",
   "execution_count": null,
   "id": "b04812f0",
   "metadata": {},
   "outputs": [],
   "source": []
  }
 ],
 "metadata": {
  "kernelspec": {
   "display_name": "Python 3",
   "language": "python",
   "name": "python3"
  },
  "language_info": {
   "codemirror_mode": {
    "name": "ipython",
    "version": 3
   },
   "file_extension": ".py",
   "mimetype": "text/x-python",
   "name": "python",
   "nbconvert_exporter": "python",
   "pygments_lexer": "ipython3",
   "version": "3.6.13"
  }
 },
 "nbformat": 4,
 "nbformat_minor": 5
}
