{
 "cells": [
  {
   "cell_type": "code",
   "execution_count": 11,
   "id": "23976973",
   "metadata": {},
   "outputs": [],
   "source": [
    "import pandas as pd\n",
    "from transformers import AutoTokenizer, AutoModel\n",
    "import torch\n",
    "import re\n",
    "import numpy as np\n",
    "import tensorflow_recommenders as tfrs\n",
    "import tensorflow as tf"
   ]
  },
  {
   "cell_type": "code",
   "execution_count": 2,
   "id": "8a5bb57e",
   "metadata": {},
   "outputs": [
    {
     "name": "stderr",
     "output_type": "stream",
     "text": [
      "Some weights of the model checkpoint at sentence-transformers/LaBSE were not used when initializing BertModel: ['cls.seq_relationship.bias', 'cls.predictions.transform.LayerNorm.weight', 'cls.predictions.transform.LayerNorm.bias', 'cls.seq_relationship.weight', 'cls.predictions.bias', 'cls.predictions.decoder.weight', 'cls.predictions.transform.dense.bias', 'cls.predictions.transform.dense.weight', 'cls.predictions.decoder.bias']\n",
      "- This IS expected if you are initializing BertModel from the checkpoint of a model trained on another task or with another architecture (e.g. initializing a BertForSequenceClassification model from a BertForPreTraining model).\n",
      "- This IS NOT expected if you are initializing BertModel from the checkpoint of a model that you expect to be exactly identical (initializing a BertForSequenceClassification model from a BertForSequenceClassification model).\n"
     ]
    }
   ],
   "source": [
    "tokenizer = AutoTokenizer.from_pretrained(\"sentence-transformers/LaBSE\")\n",
    "model = AutoModel.from_pretrained(\"sentence-transformers/LaBSE\")\n",
    "data = pd.read_csv(\"ml-25m/movies.csv\")"
   ]
  },
  {
   "cell_type": "code",
   "execution_count": 3,
   "id": "40827103",
   "metadata": {},
   "outputs": [],
   "source": [
    "def remove_pars(x):\n",
    "    x = str(x)\n",
    "    return re.sub('[()]', \"\", x)\n",
    "\n",
    "titles = [remove_pars(i) for i in data['title']]\n",
    "\n",
    "def remove_pipes(x):\n",
    "    x = str(x)\n",
    "    return re.sub('\\|', \" \", x)\n",
    "\n",
    "genres = [remove_pipes(i) for i in data['genres']]\n",
    "\n",
    "def remove_nulls(a, b, i):\n",
    "    string_m = a[i] + \" \" + b[i]\n",
    "    return re.sub(\"\\(no genres listed\\)\", \"\", string_m)\n",
    "\n",
    "input_string = [remove_nulls(titles, genres, i) for i in range(len(genres))]"
   ]
  },
  {
   "cell_type": "code",
   "execution_count": 6,
   "id": "21f3505e",
   "metadata": {},
   "outputs": [
    {
     "name": "stdout",
     "output_type": "stream",
     "text": [
      "0\n",
      "10000\n",
      "20000\n",
      "30000\n",
      "40000\n",
      "50000\n",
      "60000\n"
     ]
    }
   ],
   "source": [
    "device = \"cuda:0\" if torch.cuda.is_available() else \"cpu\"\n",
    "model = model.to(device)\n",
    "\n",
    "embeddings_list = []\n",
    "for _, i in enumerate(input_string):\n",
    "    encoded_input = tokenizer(i, padding=True, truncation=True, max_length=64, return_tensors='pt').to(device)\n",
    "    with torch.no_grad():\n",
    "        model_output = model(**encoded_input)\n",
    "    embeddings = model_output.pooler_output\n",
    "    embeddings = torch.nn.functional.normalize(embeddings)\n",
    "    embeddings_list.append(embeddings)\n",
    "    if _ % 10000  == 0:\n",
    "        print(str(_))"
   ]
  },
  {
   "cell_type": "code",
   "execution_count": 7,
   "id": "51be574e",
   "metadata": {},
   "outputs": [],
   "source": [
    "embeddings_list_tensors = []\n",
    "for i in embeddings_list:\n",
    "    d = i.cpu()[0].numpy()\n",
    "    embeddings_list_tensors.append(d)\n",
    "\n",
    "embeddings = pd.DataFrame(np.vstack(embeddings_list_tensors))\n",
    "embeddings.to_csv(\"data.csv\")"
   ]
  },
  {
   "cell_type": "code",
   "execution_count": 12,
   "id": "bee2dabf",
   "metadata": {},
   "outputs": [],
   "source": [
    "item_tensor = tf.convert_to_tensor(embeddings, dtype=tf.float32)\n"
   ]
  },
  {
   "cell_type": "code",
   "execution_count": 21,
   "id": "9f1b17fa",
   "metadata": {},
   "outputs": [
    {
     "name": "stdout",
     "output_type": "stream",
     "text": [
      "All done!\n",
      "CPU times: user 1min 53s, sys: 1.88 s, total: 1min 55s\n",
      "Wall time: 31.4 s\n"
     ]
    }
   ],
   "source": [
    "%%time\n",
    "scann = tfrs.layers.factorized_top_k.ScaNN(num_leaves=1000, num_leaves_to_search = 100, k = round(np.sqrt(len(item_tensor))))\n",
    "scann.index(item_tensor)\n",
    "\n",
    "print(\"All done!\")"
   ]
  },
  {
   "cell_type": "code",
   "execution_count": 23,
   "id": "a5f99287",
   "metadata": {},
   "outputs": [],
   "source": [
    "test = \"Horror films with zombies\"\n",
    "encoded_input = tokenizer(test, padding=True, truncation=True, max_length=64, return_tensors='pt').to(device)\n",
    "with torch.no_grad():\n",
    "    model_output = model(**encoded_input)\n",
    "query = model_output.pooler_output\n",
    "query = torch.nn.functional.normalize(embeddings)"
   ]
  },
  {
   "cell_type": "code",
   "execution_count": 25,
   "id": "d371a224",
   "metadata": {},
   "outputs": [],
   "source": [
    "test_case = scann(np.array(query.cpu()))"
   ]
  },
  {
   "cell_type": "code",
   "execution_count": 26,
   "id": "d5e83386",
   "metadata": {},
   "outputs": [
    {
     "data": {
      "text/html": [
       "<div>\n",
       "<style scoped>\n",
       "    .dataframe tbody tr th:only-of-type {\n",
       "        vertical-align: middle;\n",
       "    }\n",
       "\n",
       "    .dataframe tbody tr th {\n",
       "        vertical-align: top;\n",
       "    }\n",
       "\n",
       "    .dataframe thead th {\n",
       "        text-align: right;\n",
       "    }\n",
       "</style>\n",
       "<table border=\"1\" class=\"dataframe\">\n",
       "  <thead>\n",
       "    <tr style=\"text-align: right;\">\n",
       "      <th></th>\n",
       "      <th>movieId</th>\n",
       "      <th>title</th>\n",
       "      <th>genres</th>\n",
       "    </tr>\n",
       "  </thead>\n",
       "  <tbody>\n",
       "    <tr>\n",
       "      <th>11068</th>\n",
       "      <td>47980</td>\n",
       "      <td>Bio Zombie (Sun faa sau si) (1998)</td>\n",
       "      <td>Comedy|Horror</td>\n",
       "    </tr>\n",
       "    <tr>\n",
       "      <th>13822</th>\n",
       "      <td>71535</td>\n",
       "      <td>Zombieland (2009)</td>\n",
       "      <td>Action|Comedy|Horror</td>\n",
       "    </tr>\n",
       "    <tr>\n",
       "      <th>46049</th>\n",
       "      <td>171651</td>\n",
       "      <td>Redneck Zombies (1989)</td>\n",
       "      <td>Horror</td>\n",
       "    </tr>\n",
       "    <tr>\n",
       "      <th>23643</th>\n",
       "      <td>118810</td>\n",
       "      <td>Zombie Women of Satan (2009)</td>\n",
       "      <td>Comedy|Horror</td>\n",
       "    </tr>\n",
       "    <tr>\n",
       "      <th>45150</th>\n",
       "      <td>169738</td>\n",
       "      <td>Zombie Wars (2006)</td>\n",
       "      <td>Horror</td>\n",
       "    </tr>\n",
       "    <tr>\n",
       "      <th>55180</th>\n",
       "      <td>191327</td>\n",
       "      <td>Teenage Zombies (1960)</td>\n",
       "      <td>Horror|Sci-Fi</td>\n",
       "    </tr>\n",
       "    <tr>\n",
       "      <th>41540</th>\n",
       "      <td>161912</td>\n",
       "      <td>Zombie Night (2003)</td>\n",
       "      <td>Comedy|Horror|Sci-Fi</td>\n",
       "    </tr>\n",
       "    <tr>\n",
       "      <th>23642</th>\n",
       "      <td>118808</td>\n",
       "      <td>Zombie Reanimation (2009)</td>\n",
       "      <td>Action|Comedy|Horror</td>\n",
       "    </tr>\n",
       "    <tr>\n",
       "      <th>14427</th>\n",
       "      <td>75404</td>\n",
       "      <td>ZMD: Zombies of Mass Destruction (2009)</td>\n",
       "      <td>Comedy|Horror</td>\n",
       "    </tr>\n",
       "  </tbody>\n",
       "</table>\n",
       "</div>"
      ],
      "text/plain": [
       "       movieId                                    title                genres\n",
       "11068    47980       Bio Zombie (Sun faa sau si) (1998)         Comedy|Horror\n",
       "13822    71535                        Zombieland (2009)  Action|Comedy|Horror\n",
       "46049   171651                   Redneck Zombies (1989)                Horror\n",
       "23643   118810             Zombie Women of Satan (2009)         Comedy|Horror\n",
       "45150   169738                       Zombie Wars (2006)                Horror\n",
       "55180   191327                   Teenage Zombies (1960)         Horror|Sci-Fi\n",
       "41540   161912                      Zombie Night (2003)  Comedy|Horror|Sci-Fi\n",
       "23642   118808                Zombie Reanimation (2009)  Action|Comedy|Horror\n",
       "14427    75404  ZMD: Zombies of Mass Destruction (2009)         Comedy|Horror"
      ]
     },
     "execution_count": 26,
     "metadata": {},
     "output_type": "execute_result"
    }
   ],
   "source": [
    "data.iloc[test_case[1].numpy()[0]][0:9]"
   ]
  }
 ],
 "metadata": {
  "environment": {
   "name": "tf2-gpu.2-5.m70",
   "type": "gcloud",
   "uri": "gcr.io/deeplearning-platform-release/tf2-gpu.2-5:m70"
  },
  "kernelspec": {
   "display_name": "Python 3",
   "language": "python",
   "name": "python3"
  },
  "language_info": {
   "codemirror_mode": {
    "name": "ipython",
    "version": 3
   },
   "file_extension": ".py",
   "mimetype": "text/x-python",
   "name": "python",
   "nbconvert_exporter": "python",
   "pygments_lexer": "ipython3",
   "version": "3.7.10"
  }
 },
 "nbformat": 4,
 "nbformat_minor": 5
}
