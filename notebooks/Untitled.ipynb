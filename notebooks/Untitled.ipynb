{
 "cells": [
  {
   "cell_type": "code",
   "execution_count": 1,
   "id": "51aab4e4",
   "metadata": {},
   "outputs": [],
   "source": [
    "import pandas as pd\n",
    "import matplotlib.pyplot as plt\n",
    "from transformers import AutoTokenizer, AutoModel\n",
    "import torch\n",
    "import numpy as np\n",
    "import tensorflow_recommenders as tfrs\n",
    "import tensorflow as tf\n",
    "from tensorflow import keras"
   ]
  },
  {
   "cell_type": "code",
   "execution_count": 2,
   "id": "66e5547f",
   "metadata": {},
   "outputs": [],
   "source": [
    "class personalisedSearcher:\n",
    "    def __init__(self):\n",
    "        self.movies = pd.read_csv(\"ml-25m/movies.csv\")\n",
    "        self.ratings = pd.read_csv(\"ml-25m/ratings.csv\")\n",
    "        self.embeddings = pd.read_csv(\"data.csv\", index_col=0)\n",
    "        self.item_tensor = tf.convert_to_tensor(self.embeddings, dtype=tf.float32)\n",
    "        self.scann = tfrs.layers.factorized_top_k.ScaNN(num_leaves=1000, \n",
    "                                                        num_leaves_to_search = 100, \n",
    "                                                        k = round(np.sqrt(len(self.item_tensor))))\n",
    "        self.scann.index(self.item_tensor)\n",
    "        self.model = AutoModel.from_pretrained(\"sentence-transformers/LaBSE\")\n",
    "        self.tokenizer = AutoTokenizer.from_pretrained(\"sentence-transformers/LaBSE\")\n",
    "        self.recommender = keras.models.load_model('CF')\n",
    "        \n",
    "    def get_user_encodings(self):\n",
    "        user_ids = self.ratings[\"userId\"].unique().tolist()\n",
    "        user2user_encoded = {x: i for i, x in enumerate(user_ids)}\n",
    "        userencoded2user = {i: x for i, x in enumerate(user_ids)}\n",
    "        \n",
    "        return user2user_encoded, userencoded2user\n",
    "\n",
    "    def get_movie_encodings(self):\n",
    "        movie_ids = self.ratings[\"movieId\"].unique().tolist()\n",
    "        movie2movie_encoded = {x: i for i, x in enumerate(movie_ids)}\n",
    "        movie_encoded2movie = {i: x for i, x in enumerate(movie_ids)}\n",
    "        \n",
    "        return movie2movie_encoded, movie_encoded2movie\n",
    "    \n",
    "    def update_ratings(self):\n",
    "        user2user_encoded, _ = self.get_user_encodings()\n",
    "        movie2movie_encoded, _ = self.get_movie_encodings()\n",
    "        self.ratings[\"user\"] = self.ratings[\"userId\"].map(user2user_encoded)\n",
    "        self.ratings[\"movie\"] = self.ratings[\"movieId\"].map(movie2movie_encoded)\n",
    "        \n",
    "        return self.ratings\n",
    "        \n",
    "    def get_user_history(self, user_id):\n",
    "        df = self.update_ratings()\n",
    "        watched_movies = df[df.userId == user_id]\n",
    "        \n",
    "    def get_candidate_movies(self, query):\n",
    "        encoded_input = self.tokenizer(query, \n",
    "                                  padding=True, \n",
    "                                  truncation=True, \n",
    "                                  max_length=64, \n",
    "                                  return_tensors='pt')\n",
    "        with torch.no_grad():\n",
    "            model_output = self.model(**encoded_input)\n",
    "        query_embeddings = model_output.pooler_output\n",
    "        query_embeddings = torch.nn.functional.normalize(query_embeddings)\n",
    "        test_case = self.scann(np.array(query_embeddings))\n",
    "        return self.movies.iloc[test_case[1].numpy()[0]][0:11]\n",
    "    \n",
    "    def filter_candidates(self, user_id, query):\n",
    "        movies_watched_by_user = self.ratings[self.ratings.userId == user_id]\n",
    "        candidates = self.get_candidate_movies(query)\n",
    "        movies_not_watched = candidates[\n",
    "            ~candidates[\"movieId\"].isin(movies_watched_by_user.movieId.values)\n",
    "        ][\"movieId\"]\n",
    "        movie2movie_encoded, _ = self.get_movie_encodings()\n",
    "        movies_not_watched = list(set(movies_not_watched).\n",
    "                                  intersection(set(movie2movie_encoded.keys())))\n",
    "        movies_not_watched = [[movie2movie_encoded.get(x)] for x in movies_not_watched]\n",
    "        user2user_encoded, _ = self.get_user_encodings()\n",
    "        user_encoder = user2user_encoded.get(user_id)\n",
    "        movie_array = np.hstack(([[user_encoder]] * len(movies_not_watched), movies_not_watched))\n",
    "        \n",
    "        return movie_array, movies_not_watched, movies_watched_by_user\n",
    "    \n",
    "    def personalised_search(self, user_id, query):\n",
    "        movie_array, movies_not_watched, movies_watched_by_user = self.filter_candidates(user_id, query)\n",
    "        scored_items = self.recommender.predict(movie_array).flatten()\n",
    "        top_rated = scored_items.argsort()[-10:][::-1]\n",
    "        _, movie_encoded2movie = self.get_movie_encodings()\n",
    "        recommended_movie_ids = [movie_encoded2movie.get(movies_not_watched[x][0]) for x in top_rated]\n",
    "        \n",
    "        return recommended_movie_ids, movies_watched_by_user\n",
    "    \n",
    "    def print_recs(self, user_id, query):\n",
    "        recommendations, movies_watched_by_user = self.personalised_search(user_id, query)\n",
    "        \n",
    "        print(\"Showing recommendations for user: {}\".format(user_id))\n",
    "        print(\"====\" * 9)\n",
    "        print(\"Movies with high ratings from user\")\n",
    "        print(\"----\" * 8)\n",
    "        top_movies_user = (\n",
    "            movies_watched_by_user.sort_values(by=\"rating\", ascending=False)\n",
    "            .head(5)\n",
    "            .movieId.values\n",
    "        )\n",
    "        movie_df_rows = self.movies[self.movies[\"movieId\"].isin(top_movies_user)]\n",
    "        for row in movie_df_rows.itertuples():\n",
    "            print(row.title, \":\", row.genres)\n",
    "        print(\"----\" * 8)\n",
    "        print(\"Top 10 movie recommendations\")\n",
    "        print(\"----\" * 8)\n",
    "        recommended_movies = self.movies[self.movies[\"movieId\"].isin(recommendations)]\n",
    "        for row in recommended_movies.itertuples():\n",
    "            print(row.title, \":\", row.genres)"
   ]
  },
  {
   "cell_type": "code",
   "execution_count": 3,
   "id": "9123ba9a",
   "metadata": {},
   "outputs": [
    {
     "name": "stderr",
     "output_type": "stream",
     "text": [
      "Some weights of the model checkpoint at sentence-transformers/LaBSE were not used when initializing BertModel: ['cls.predictions.transform.dense.bias', 'cls.seq_relationship.weight', 'cls.predictions.transform.dense.weight', 'cls.predictions.transform.LayerNorm.weight', 'cls.predictions.bias', 'cls.predictions.transform.LayerNorm.bias', 'cls.seq_relationship.bias', 'cls.predictions.decoder.weight', 'cls.predictions.decoder.bias']\n",
      "- This IS expected if you are initializing BertModel from the checkpoint of a model trained on another task or with another architecture (e.g. initializing a BertForSequenceClassification model from a BertForPreTraining model).\n",
      "- This IS NOT expected if you are initializing BertModel from the checkpoint of a model that you expect to be exactly identical (initializing a BertForSequenceClassification model from a BertForSequenceClassification model).\n"
     ]
    }
   ],
   "source": [
    "recommend = personalisedSearcher()"
   ]
  },
  {
   "cell_type": "code",
   "execution_count": 4,
   "id": "1341bec4",
   "metadata": {},
   "outputs": [
    {
     "name": "stdout",
     "output_type": "stream",
     "text": [
      "Showing recommendations for user: 42\n",
      "====================================\n",
      "Movies with high ratings from user\n",
      "--------------------------------\n",
      "Seven (a.k.a. Se7en) (1995) : Mystery|Thriller\n",
      "Silence of the Lambs, The (1991) : Crime|Horror|Thriller\n",
      "Snake Eyes (1998) : Action|Crime|Mystery|Thriller\n",
      "Payback (1999) : Action|Thriller\n",
      "Total Recall (1990) : Action|Adventure|Sci-Fi|Thriller\n",
      "--------------------------------\n",
      "Top 10 movie recommendations\n",
      "--------------------------------\n",
      "Bio Zombie (Sun faa sau si) (1998) : Comedy|Horror\n",
      "Zombieland (2009) : Action|Comedy|Horror\n",
      "ZMD: Zombies of Mass Destruction (2009) : Comedy|Horror\n",
      "Zombie Reanimation (2009) : Action|Comedy|Horror\n",
      "Zombie Women of Satan (2009) : Comedy|Horror\n",
      "The Zombie Diaries (2006) : Action|Horror|Thriller\n",
      "Redneck Zombies (1989) : Horror\n",
      "Hobgoblins 2 (2009) : Horror|Sci-Fi\n",
      "Teenage Zombies (1960) : Horror|Sci-Fi\n"
     ]
    }
   ],
   "source": [
    "recommend.print_recs(42, \"Horror films with zombies\")"
   ]
  },
  {
   "cell_type": "code",
   "execution_count": null,
   "id": "5d0a5d97",
   "metadata": {},
   "outputs": [],
   "source": []
  }
 ],
 "metadata": {
  "environment": {
   "name": "tf2-gpu.2-5.m70",
   "type": "gcloud",
   "uri": "gcr.io/deeplearning-platform-release/tf2-gpu.2-5:m70"
  },
  "kernelspec": {
   "display_name": "Python 3",
   "language": "python",
   "name": "python3"
  },
  "language_info": {
   "codemirror_mode": {
    "name": "ipython",
    "version": 3
   },
   "file_extension": ".py",
   "mimetype": "text/x-python",
   "name": "python",
   "nbconvert_exporter": "python",
   "pygments_lexer": "ipython3",
   "version": "3.7.10"
  }
 },
 "nbformat": 4,
 "nbformat_minor": 5
}
